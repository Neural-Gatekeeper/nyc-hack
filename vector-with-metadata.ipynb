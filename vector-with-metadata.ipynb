from sklearn.feature_extraction.text import TfidfVectorizer
import numpy as np

# Sample documents with metadata
documents_with_metadata = [
    {'id': 1, 'text': "This is the first document.", 'category': 'A'},
    {'id': 2, 'text': "This document is the second document.", 'category': 'B'},
    {'id': 3, 'text': "And this is the third one.", 'category': 'A'},
    {'id': 4, 'text': "Is this the first document?", 'category': 'C'},
]

# Extract text and metadata from documents
texts = [doc['text'] for doc in documents_with_metadata]
metadata = [{'id': doc['id'], 'category': doc['category']} for doc in documents_with_metadata]

# Create TF-IDF vectorizer with metadata
vectorizer = TfidfVectorizer()
tfidf_matrix = vectorizer.fit_transform(texts)

# Get the vector representation of each document
vector_store = tfidf_matrix.toarray()

# Sample query with metadata
query = "This is the second document."
query_metadata = {'id': 5, 'category': 'B'}

# Transform the query into TF-IDF vector with metadata
query_vector = vectorizer.transform([query]).toarray()

# Calculate cosine similarity between the query vector and document vectors
similarities = cosine_similarity(query_vector, vector_store)

# Get the indices of the top five most similar documents
top_indices = np.argsort(similarities[0])[-5:][::-1]

# Print the top five most similar documents and their metadata
print("Query:", query)
print("Top five most similar documents:")
for index in top_indices:
    print(f"Document {index}: {documents_with_metadata[index]}")
